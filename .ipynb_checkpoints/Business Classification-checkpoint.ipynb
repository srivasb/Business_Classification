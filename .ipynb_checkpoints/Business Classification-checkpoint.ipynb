{
 "cells": [
  {
   "cell_type": "markdown",
   "metadata": {},
   "source": [
    "# Business Classification\n",
    "\n",
    "\n",
    "\n",
    "Sample code for Testing the **Logistic Regression** function from the *Sklearn* library.\n",
    "\n",
    "Import all the data from *business.json* file and get: \n",
    "\n",
    "- for Feture matrix:  \"stars\" and \"review_counts\" \n",
    "\n",
    "- for label column (*target*): \"is_open\". \n",
    "\n",
    "Function to use: \n",
    "\n",
    "```python\n",
    "    model = linear_model.LogisticRegression()\n",
    "    model.fit(X,y)\n",
    "```"
   ]
  },
  {
   "cell_type": "code",
   "execution_count": null,
   "metadata": {},
   "outputs": [],
   "source": [
    "import urllib.request # read and open URLs\n",
    "import urllib.parse # read and open NODE files\n",
    "import json # Reading Jason File\n",
    "from sklearn import linear_model"
   ]
  },
  {
   "cell_type": "code",
   "execution_count": null,
   "metadata": {},
   "outputs": [],
   "source": [
    "# Reading the Jason File\n",
    "data = [json.loads(line) for line in open('business.json', 'r',encoding='utf8')]"
   ]
  },
  {
   "cell_type": "code",
   "execution_count": null,
   "metadata": {},
   "outputs": [],
   "source": [
    "# Creating the DATA SET \n",
    "import pandas as pd\n",
    "\n",
    "df = pd.DataFrame(data, columns=[\"business_id\", \n",
    "                            \"name\",\n",
    "                            \"address\",\n",
    "                            \"city\",\n",
    "                            \"state\",\n",
    "                            \"postal_code\",\n",
    "                            \"latitude\",\n",
    "                            \"longitude\",\n",
    "                            \"stars\",\n",
    "                            \"review_count\",\n",
    "                            \"is_open\",\n",
    "                             \"attributes\"])"
   ]
  },
  {
   "cell_type": "code",
   "execution_count": null,
   "metadata": {},
   "outputs": [],
   "source": []
  }
 ],
 "metadata": {
  "kernelspec": {
   "display_name": "Python 3",
   "language": "python",
   "name": "python3"
  },
  "language_info": {
   "codemirror_mode": {
    "name": "ipython",
    "version": 3
   },
   "file_extension": ".py",
   "mimetype": "text/x-python",
   "name": "python",
   "nbconvert_exporter": "python",
   "pygments_lexer": "ipython3",
   "version": "3.7.4"
  }
 },
 "nbformat": 4,
 "nbformat_minor": 4
}
